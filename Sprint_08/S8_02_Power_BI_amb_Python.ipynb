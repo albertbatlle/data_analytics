{
 "cells": [
  {
   "cell_type": "markdown",
   "id": "69a30d30-d51c-4a2d-b1ba-bd78453d1184",
   "metadata": {},
   "source": [
    "# Tasca S8.02. Power BI amb Python"
   ]
  },
  {
   "cell_type": "markdown",
   "id": "09711f98-4ef4-409a-83f7-23843a05f0d1",
   "metadata": {},
   "source": [
    "## Descripció"
   ]
  },
  {
   "cell_type": "markdown",
   "id": "74eb930d-2fc2-48e7-8393-d9f98f278dfb",
   "metadata": {},
   "source": [
    "Aquesta tasca consisteix en l'elaboració d'un informe de Power BI, aprofitant les capacitats analítiques de Python. S'utilitzaran els scripts de Python creats prèviament en la Tasca 1 per a generar visualitzacions personalitzades amb les biblioteques Seaborn i Matplotlib. Aquestes visualitzacions seran integrades en l'informe de Power BI per a oferir una comprensió més profunda de la capacitat del llenguatge de programació en l'eina Power BI."
   ]
  },
  {
   "cell_type": "markdown",
   "id": "f7a5891b-c091-4776-ac5b-cdcffbf0898b",
   "metadata": {},
   "source": [
    "## Nivell 1"
   ]
  },
  {
   "cell_type": "markdown",
   "id": "fa2cba8f-1b52-4d8d-a1b8-10bb6939b393",
   "metadata": {},
   "source": [
    "Els 7 exercicis del nivell 1 de la tasca 01"
   ]
  },
  {
   "cell_type": "markdown",
   "id": "d64f8ca7-eff8-4c8d-8bbd-f881af4c75b3",
   "metadata": {},
   "source": [
    "## Exercici 1\n",
    "Una variable numèrica."
   ]
  },
  {
   "cell_type": "code",
   "execution_count": null,
   "id": "9b65192b-7d0c-4049-ba4f-dce347abc90c",
   "metadata": {},
   "outputs": [],
   "source": [
    "# El codi següent per crear un marc de dades i suprimir files duplicades sempre s'executa i funciona com a preàmbul de l'script: \n",
    "\n",
    "# dataset = pandas.DataFrame(amount)\n",
    "# dataset = dataset.drop_duplicates()\n",
    "\n",
    "# Enganxeu o escriviu el codi de l'script aquí:\n",
    "import matplotlib.pyplot as plt #genera gràfics a partir de continguts en llistes, vector amb py i amb l'extensió NumPy\n",
    "import seaborn as sns #llibreria especialitzada en visualització de dades per py desenvolupada amb matplotlib  i ofereix interficie d'alt nivell\n",
    "\n",
    "sns.set_theme(style=\"darkgrid\", context=\"talk\")\n",
    "sns.histplot(dataset[\"amount\"])\n",
    "plt.title(\"Histograma del total de l'Import\")\n",
    "plt.ylabel(\"Quantitat de registres\")\n",
    "plt.xlabel(\"Import\")\n",
    "plt.show()"
   ]
  },
  {
   "cell_type": "markdown",
   "id": "53b90193-1148-44d7-ae19-bdd900ef49db",
   "metadata": {},
   "source": [
    "### Exercici 2\n",
    "Dues variables numèriques."
   ]
  },
  {
   "cell_type": "code",
   "execution_count": null,
   "id": "d7cb3f30-615c-4363-8f95-c9549d715e67",
   "metadata": {},
   "outputs": [],
   "source": [
    "# El codi següent per crear un marc de dades i suprimir files duplicades sempre s'executa i funciona com a preàmbul de l'script: \n",
    "\n",
    "# dataset = pandas.DataFrame(precio, weight)\n",
    "# dataset = dataset.drop_duplicates()\n",
    "\n",
    "# Enganxeu o escriviu el codi de l'script aquí:\n",
    "import matplotlib.pyplot as plt #genera gràfics a partir de continguts en llistes, vector amb py i amb l'extensió NumPy\n",
    "import seaborn as sns #llibreria especialitzada en visualització de dades per py desenvolupada amb matplotlib  i ofereix interficie d'alt nivell\n",
    "\n",
    "\n",
    "sns.set_theme(style=\"darkgrid\", context=\"talk\")\n",
    "sns.swarmplot(dataset, y=\"precio\", x=\"weight\")\n",
    "plt.title(\"Diagrama de dispersió de preu i pes\")\n",
    "plt.ylabel(\"Preu\")\n",
    "plt.xlabel(\"Pes\")\n",
    "plt.show()"
   ]
  },
  {
   "cell_type": "markdown",
   "id": "aa9a53e6-c2a7-4a1a-87ad-c1ce61b7d463",
   "metadata": {},
   "source": [
    "### Exercici 3\n",
    "Una variable categòrica."
   ]
  },
  {
   "cell_type": "code",
   "execution_count": null,
   "id": "5d8b865f-99af-4cea-8c0a-a2247fbdcb92",
   "metadata": {},
   "outputs": [],
   "source": [
    "# El codi següent per crear un marc de dades i suprimir files duplicades sempre s'executa i funciona com a preàmbul de l'script: \n",
    "\n",
    "# dataset = pandas.DataFrame(country)\n",
    "# dataset = dataset.drop_duplicates()\n",
    "\n",
    "# Enganxeu o escriviu el codi de l'script aquí:\n",
    "import matplotlib.pyplot as plt \n",
    "import seaborn as sns\n",
    "\n",
    "sns.set_theme(style=\"darkgrid\", context=\"talk\")\n",
    "sns.countplot(dataset, x=\"country\")\n",
    "plt.title(\"Gràfic de barres per país\")\n",
    "plt.ylabel(\"Quantitat\")\n",
    "plt.xlabel(\"País\")\n",
    "plt.xticks(rotation=90)\n",
    "plt.show()"
   ]
  },
  {
   "cell_type": "markdown",
   "id": "cee7872c-fec3-4e00-af63-676354d8d375",
   "metadata": {},
   "source": [
    "### Exercici 4\n",
    "Una variable categòrica i una numèrica."
   ]
  },
  {
   "cell_type": "code",
   "execution_count": null,
   "id": "5fc9b4a3-07dc-4375-af91-1ee36ace246e",
   "metadata": {},
   "outputs": [],
   "source": [
    "# El codi següent per crear un marc de dades i suprimir files duplicades sempre s'executa i funciona com a preàmbul de l'script: \n",
    "\n",
    "# dataset = pandas.DataFrame(amount, country)\n",
    "# dataset = dataset.drop_duplicates()\n",
    "\n",
    "# Enganxeu o escriviu el codi de l'script aquí:\n",
    "import matplotlib.pyplot as plt \n",
    "import seaborn as sns\n",
    "\n",
    "sns.set_theme(style=\"darkgrid\", context=\"talk\")\n",
    "#fem un merge\n",
    "\n",
    "plt.figure(figsize=(9,7))\n",
    "sns.barplot(dataset, x=\"country\", y=\"amount\")\n",
    "plt.title(\"Gràfic d'estimació d'import per país\")\n",
    "plt.ylabel(\"Import\")\n",
    "plt.xlabel(\"País\")\n",
    "plt.xticks(rotation=90)\n",
    "plt.show()"
   ]
  },
  {
   "cell_type": "markdown",
   "id": "211ff5f0-bfd6-4a93-8057-5faa27eb6cf5",
   "metadata": {},
   "source": [
    "### Exercici 5 i 6\n",
    "Dues variables categòriques </br>\n",
    "Tres variables."
   ]
  },
  {
   "cell_type": "code",
   "execution_count": null,
   "id": "3bfb4200-1a75-4eee-bc7a-f12224ac7356",
   "metadata": {},
   "outputs": [],
   "source": [
    "# El codi següent per crear un marc de dades i suprimir files duplicades sempre s'executa i funciona com a preàmbul de l'script: \n",
    "\n",
    "# dataset = pandas.DataFrame(amount, country, declined)\n",
    "# dataset = dataset.drop_duplicates()\n",
    "\n",
    "# Enganxeu o escriviu el codi de l'script aquí:\n",
    "import matplotlib.pyplot as plt \n",
    "import seaborn as sns\n",
    "\n",
    "sns.set_theme(style=\"darkgrid\", context=\"talk\")\n",
    "plt.figure(figsize=(9,7))\n",
    "sns.violinplot(dataset, x=\"country\", y=\"amount\", hue=\"declined\", split = True)\n",
    "plt.title(\"Gràfic d'estimació d'import per país i operacions acceptades i declinades\")\n",
    "plt.ylabel(\"Import\")\n",
    "plt.xlabel(\"País\")\n",
    "plt.xticks(rotation=90)\n",
    "plt.show()"
   ]
  },
  {
   "cell_type": "markdown",
   "id": "cf841c6b-8394-47d0-b805-3c6d940829c5",
   "metadata": {},
   "source": [
    "### Exercici 7\n",
    "Graficar un Pairplot."
   ]
  },
  {
   "cell_type": "code",
   "execution_count": null,
   "id": "4da64f49-cccf-41ee-b4c3-fe3f53915f05",
   "metadata": {},
   "outputs": [],
   "source": [
    "import pandas as pd\n",
    "import matplotlib.pyplot as plt\n",
    "import seaborn as sns\n",
    "\n",
    "\n",
    "\n",
    "# Realitzar el merge de les taules\n",
    "#df_transactions_products_tr = df_transactions.merge(df_product_transaction, how=\"inner\", left_on=\"id\", right_on=\"order_id\").merge(df_products, how=\"inner\", left_on=\"product_id\", right_on=\"id\")\n",
    "\n",
    "# Configurar el tema de seaborn\n",
    "sns.set_theme(style=\"darkgrid\", context=\"talk\")\n",
    "\n",
    "# Generar el pairplot\n",
    "sns.pairplot(dataset, vars=[\"precio\", \"weight\"])\n",
    "\n",
    "# Mostrar el gràfic\n",
    "plt.show()\n",
    "\n"
   ]
  }
 ],
 "metadata": {
  "kernelspec": {
   "display_name": "Python 3 (ipykernel)",
   "language": "python",
   "name": "python3"
  },
  "language_info": {
   "codemirror_mode": {
    "name": "ipython",
    "version": 3
   },
   "file_extension": ".py",
   "mimetype": "text/x-python",
   "name": "python",
   "nbconvert_exporter": "python",
   "pygments_lexer": "ipython3",
   "version": "3.11.5"
  }
 },
 "nbformat": 4,
 "nbformat_minor": 5
}
