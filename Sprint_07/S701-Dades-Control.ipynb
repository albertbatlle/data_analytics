{
 "cells": [
  {
   "cell_type": "markdown",
   "id": "2022888a-e2d5-4472-adb5-81c20ac09266",
   "metadata": {},
   "source": [
    "# Descripció"
   ]
  },
  {
   "cell_type": "markdown",
   "id": "596399f1-e83b-41ae-a079-6133a4d11885",
   "metadata": {},
   "source": [
    "Resoldràs alguns problemes de la vida quotidiana aplicant les estructures de dades i control en Python.\n",
    "\n",
    "Un client de l'empresa en la qual treballes demana una llista de programes molt senzills, però que li facilitarien molts processos. No obstant això, el departament de TU està molt complicat amb el temps, per la qual cosa et demanen que facis la programació."
   ]
  },
  {
   "cell_type": "markdown",
   "id": "26a702f3-1e34-4dcb-9e97-13e1fa59b6eb",
   "metadata": {},
   "source": [
    "## Nivell 1"
   ]
  },
  {
   "cell_type": "markdown",
   "id": "4bf373de-f02c-4e6d-9b24-0e9982c50ab6",
   "metadata": {
    "tags": []
   },
   "source": [
    "* **Exercici 1**"
   ]
  },
  {
   "cell_type": "markdown",
   "id": "4e48986e-3d26-420c-b4a6-f3c04dbd7338",
   "metadata": {},
   "source": [
    "Calculadora de l'índex de massa corporal\n",
    "\n",
    "* Escriu una funció que calculi l'IMC ingressat per l'usuari/ària, és a dir, qui ho executi haurà d'ingressar aquestes dades. Pots obtenir més informació del seu càlcul en:\n",
    "\n",
    "* La funció ha de classificar el resultat en les seves respectives categories"
   ]
  },
  {
   "cell_type": "markdown",
   "id": "d0b4ab7d-143c-46a0-aa2c-33319c8ed6f7",
   "metadata": {},
   "source": [
    "**Mètode amb funcions:**"
   ]
  },
  {
   "cell_type": "code",
   "execution_count": 68,
   "id": "ea393c82-2d8b-4fe6-9857-f62ecb359a5e",
   "metadata": {},
   "outputs": [
    {
     "name": "stdout",
     "output_type": "stream",
     "text": [
      "Bon dia! Anem a procedir a fer un càlcul del vostre Índex de Massa Corporal. I per això necessitarem les dades del vostre pes i alçada, tingui en compte que els decimals es representen amb un punt (.)\n"
     ]
    },
    {
     "name": "stdin",
     "output_type": "stream",
     "text": [
      "Introdueixi el seu pes en Kgs:  45.9\n",
      "Introdueixi la seva alçada en centimetres:  175\n"
     ]
    },
    {
     "name": "stdout",
     "output_type": "stream",
     "text": [
      "El seu IMC és 14.99. El seu pes és baix. Hauria de canviar la seva dieta per guanyar pes.\n"
     ]
    }
   ],
   "source": [
    "def salutacio ():\n",
    "    print(\"Bon dia! Anem a procedir a fer un càlcul del vostre Índex de Massa Corporal. I per això necessitarem les dades del vostre pes i alçada, tingui en compte que els decimals es representen amb un punt (.)\")\n",
    "\n",
    "def demanar_pes():\n",
    "    pes = float(input(\"Introdueixi el seu pes en Kgs: \"))\n",
    "    return pes\n",
    "\n",
    "def demanar_alt():\n",
    "    valor = int(input(\"Introdueixi la seva alçada en centimetres: \"))\n",
    "    alt_cm = valor / 100\n",
    "    return alt_cm\n",
    "\n",
    "def classificar_IMC(pes_usuari, alt_m_usuari):\n",
    "    IMC = round((pes_usuari / (alt_m_usuari**2)), 2)\n",
    "    if IMC < 18.5:\n",
    "        print(f\"El seu IMC és {IMC}. El seu pes és baix. Hauria de canviar la seva dieta per guanyar pes.\")\n",
    "    elif IMC<=24.9:\n",
    "        print(f\"El seu IMC és {IMC}. El seu pes és l'adequat.\")\n",
    "    elif IMC<=29.9:\n",
    "        print(f\"El seu IMC és {IMC}. Vostè té sobrepes. Hauria de canviar la seva dieta per perdre pes.\")\n",
    "    else:\n",
    "        print(f\"El seu IMC és {IMC}. Vostè té obessitat. Hauria de canviar la seva dieta per perdre pes. \")\n",
    "\n",
    "def main_ex1():\n",
    "    salutacio()\n",
    "    pes_c=demanar_pes()\n",
    "    alt_c=demanar_alt()\n",
    "    classificar_IMC(pes_c, alt_c)\n",
    "main_ex1()\n",
    "#print(f\"El seu pes és {pes_usuari} kgs\")\n",
    "\n",
    "#print(f\"El seu IMC és {IMC}\")\n",
    "\n",
    "\n"
   ]
  },
  {
   "cell_type": "markdown",
   "id": "46e65dc7-35df-4cc9-9236-529eda68a59d",
   "metadata": {},
   "source": [
    "**Mètode sense funcions:**"
   ]
  },
  {
   "cell_type": "code",
   "execution_count": 10,
   "id": "ce8c0532-0eb8-4684-939a-4a2e2f3a85aa",
   "metadata": {
    "tags": []
   },
   "outputs": [
    {
     "name": "stdout",
     "output_type": "stream",
     "text": [
      "Bon dia! Anem a procedir a fer un càlcul del vostre Índex de Massa Corporal. I per això necessitarem les dades del vostre pes i alçada, tingui en compte que els decimals es representen amb un punt (.)\n"
     ]
    },
    {
     "name": "stdin",
     "output_type": "stream",
     "text": [
      "Introdueixi el seu pes en Kgs:  45\n",
      "Introdueixi la seva alçada en centimetres:  179\n"
     ]
    },
    {
     "name": "stdout",
     "output_type": "stream",
     "text": [
      "El resultat del seu Índex de Massa Corporal és de  14.04 segons aquests valors:\n",
      "El seu pes és baix. Hauria de canviar la seva dieta per guanyar pes.\n"
     ]
    }
   ],
   "source": [
    "def salutacio ():\n",
    "    print(\"Bon dia! Anem a procedir a fer un càlcul del vostre Índex de Massa Corporal. I per això necessitarem les dades del vostre pes i alçada, tingui en compte que els decimals es representen amb un punt (.)\")\n",
    "salutacio()\n",
    "\n",
    "pes_usuari = demanar_pes(\"Introdueixi el seu pes en Kgs: \")\n",
    "\n",
    "pes=float(input(\"Introdueixi el seu pes en Kgs: \"))\n",
    "alt_cm=int(input(\"Introdueixi la seva alçada en centimetres: \"))\n",
    "alt_m = alt_cm/100\n",
    "IMC = pes / (alt_m**2)\n",
    "IMC_round = round(IMC,2)\n",
    "print(\"El resultat del seu Índex de Massa Corporal és de \", IMC_round, \"segons aquests valors:\")\n",
    "if IMC < 18.5:\n",
    "    print(\"El seu pes és baix. Hauria de canviar la seva dieta per guanyar pes.\")\n",
    "elif IMC<=24.9:\n",
    "    print(\"El seu pes és l'adequat.\")\n",
    "elif IMC<=29.9:\n",
    "    print(\"Vostè té sobrepes. Hauria de canviar la seva dieta per perdre pes.\")\n",
    "else:\n",
    "    print(\"Vostè té obessitat. Hauria de canviar la seva dieta per perdre pes. \")"
   ]
  },
  {
   "cell_type": "markdown",
   "id": "a2bf9ac9-12b1-48c0-8efa-e46fbad9bf8b",
   "metadata": {},
   "source": [
    "* **Exercici 2**"
   ]
  },
  {
   "cell_type": "markdown",
   "id": "01e64668-da98-45f8-83b7-f7072de0deac",
   "metadata": {},
   "source": [
    "Convertidor de temperatures.\n",
    "\n",
    "Existeixen diverses unitats de temperatura utilitzades en diferents contextos i regions. Les més comunes són Celsius (°C), Fahrenheit (°F) i Kelvin (K). També existeixen altres unitats com Rankine (°Ra) i Réaumur (°Re). Selecciona almenys 2 conversors, de tal manera que en introduir una temperatura retorni, com a mínim, dues conversions."
   ]
  },
  {
   "cell_type": "markdown",
   "id": "6ab0d897-de44-43d4-9671-985780e9442e",
   "metadata": {},
   "source": [
    "**Mètode amb funcions:**"
   ]
  },
  {
   "cell_type": "code",
   "execution_count": 76,
   "id": "3af9a5b4-e4e1-46d3-acd1-d0b1e0819080",
   "metadata": {},
   "outputs": [
    {
     "name": "stdin",
     "output_type": "stream",
     "text": [
      "Introduexi amb decimals (.) la temperatura en graus Celsius de la seva ubicació:  38.9\n"
     ]
    },
    {
     "name": "stdout",
     "output_type": "stream",
     "text": [
      "La temperatura 38.9 ºC de la teva ubicació. Són 102.02ºF i 312.05ºK.\n"
     ]
    }
   ],
   "source": [
    "def obtencio_graus_celsius():\n",
    "    graus_c=float(input(\"Introduexi amb decimals (.) la temperatura en graus Celsius de la seva ubicació: \"))\n",
    "    return graus_c\n",
    "\n",
    "def graus_diversos(graus_cel):\n",
    "    fahrenheit=(graus_cel * 9/5) +32\n",
    "    kelvin=round((graus_cel +273.15),2)    \n",
    "    return (fahrenheit, kelvin)\n",
    "\n",
    "def impressio_graus(graus_cel, graus_fahren, graus_kelv):    \n",
    "    print(f\"La temperatura {graus_cel} ºC de la teva ubicació. Són {graus_fahren}ºF i {graus_kelv}ºK.\")\n",
    "\n",
    "def main_ex2():\n",
    "    graus_cel=obtencio_graus_celsius()\n",
    "    (graus_fahren, graus_kelv)=graus_diversos(graus_cel)\n",
    "    impressio_graus(graus_cel, graus_fahren, graus_kelv)\n",
    "\n",
    "main_ex2()"
   ]
  },
  {
   "cell_type": "markdown",
   "id": "9f0f7ca0-f107-416e-8273-6f6585cc68a5",
   "metadata": {},
   "source": [
    "**Mètode sense funcions:**"
   ]
  },
  {
   "cell_type": "code",
   "execution_count": 3,
   "id": "8fb8a358-6d98-4539-b9ab-c98b09c9c0c4",
   "metadata": {
    "tags": []
   },
   "outputs": [
    {
     "name": "stdin",
     "output_type": "stream",
     "text": [
      "Introduexi amb decimals la temperatura (.) de la seva ubicació:  24.5\n"
     ]
    },
    {
     "name": "stdout",
     "output_type": "stream",
     "text": [
      "La temperatura de la seva ubicació són 24.5 ºC que convertits són 76.1 ºF i 297.65 ºK.\n"
     ]
    }
   ],
   "source": [
    "graus_celsius=float(input(\"Introduexi amb decimals (.) la temperatura en graus Celsius de la seva ubicació: \"))\n",
    "graus_fahrenheit = (graus_celsius * 9/5) + 32\n",
    "graus_kelvin = graus_celsius + 273.15\n",
    "print(\"La temperatura de la seva ubicació són\", graus_celsius, \"ºC que convertits són\", graus_fahrenheit, \"ºF i\", graus_kelvin, \"ºK.\")"
   ]
  },
  {
   "cell_type": "markdown",
   "id": "7563163d-8e8c-4d88-8b86-55d3559a1b54",
   "metadata": {},
   "source": [
    "* **Exercici 3**"
   ]
  },
  {
   "cell_type": "markdown",
   "id": "1e1152f2-bf0b-4656-a9e6-1f5df1281df1",
   "metadata": {},
   "source": [
    "Comptador de paraules d'un text.\n",
    "\n",
    "Escriu una funció que donat un text, mostri les vegades que apareix cada paraula."
   ]
  },
  {
   "cell_type": "markdown",
   "id": "bc22abe9-fbf8-4016-bb5c-26cbea0c11ef",
   "metadata": {},
   "source": [
    "**Mètode amb funcions:**"
   ]
  },
  {
   "cell_type": "code",
   "execution_count": 80,
   "id": "b6bce55e-cb82-40b2-901d-42ec5b493efc",
   "metadata": {},
   "outputs": [
    {
     "name": "stdin",
     "output_type": "stream",
     "text": [
      "Introduexi el text que vostè vulgui a continuació:  Aquest, és un text, de prova; per veure si funciona bé. Aquesta eïna. és prova bé?!$%\n"
     ]
    },
    {
     "name": "stdout",
     "output_type": "stream",
     "text": [
      "['Aquest', 'és', 'un', 'text', 'de', 'prova', 'per', 'veure', 'si', 'funciona', 'bé', 'Aquesta', 'eïna', 'és', 'prova', 'bé']\n",
      " Aquest: 1\n",
      " és: 2\n",
      " un: 1\n",
      " text: 1\n",
      " de: 1\n",
      " prova: 2\n",
      " per: 1\n",
      " veure: 1\n",
      " si: 1\n",
      " funciona: 1\n",
      " bé: 2\n",
      " Aquesta: 1\n",
      " eïna: 1\n"
     ]
    }
   ],
   "source": [
    "def separacio_paraules():\n",
    "    import string\n",
    "    text = input(\"Introduexi el text que vostè vulgui a continuació: \")\n",
    "    traductor=str.maketrans(\"\",\"\", string.punctuation)\n",
    "    #regular expressions\n",
    "    text_ss_puntuacio=text.translate(traductor)\n",
    "    llista_paraules = text_ss_puntuacio.split()\n",
    "    print(llista_paraules)\n",
    "    return llista_paraules\n",
    "\n",
    "def comptador_paraules(paraules_separades):\n",
    "    from collections import Counter\n",
    "    recompte=Counter(paraules_separades)\n",
    "    for elements, valor in recompte.items(): \n",
    "        print(f\" {elements}: {valor}\")\n",
    "\n",
    "def main_ex3():\n",
    "    paraules_separades = separacio_paraules()\n",
    "    comptador_paraules(paraules_separades)\n",
    "\n",
    "main_ex3()\n"
   ]
  },
  {
   "cell_type": "markdown",
   "id": "f26df96e-6c0d-42ee-ad8d-6b4041af29dc",
   "metadata": {},
   "source": [
    "**Mètode sense funcions:**"
   ]
  },
  {
   "cell_type": "code",
   "execution_count": 10,
   "id": "4cb8cfb8-6324-4e98-bf8a-518371400409",
   "metadata": {
    "tags": []
   },
   "outputs": [
    {
     "name": "stdout",
     "output_type": "stream",
     "text": [
      "Introduexi el text que vostè vulgui a continuació: \n"
     ]
    },
    {
     "name": "stdin",
     "output_type": "stream",
     "text": [
      " Aquest, és un text, de prova; per veure si funciona bé. Aquesta eïna. és prova bé\n"
     ]
    },
    {
     "name": "stdout",
     "output_type": "stream",
     "text": [
      " Aquest: 1\n",
      " és: 2\n",
      " un: 1\n",
      " text: 1\n",
      " de: 1\n",
      " prova: 2\n",
      " per: 1\n",
      " veure: 1\n",
      " si: 1\n",
      " funciona: 1\n",
      " bé: 2\n",
      " Aquesta: 1\n",
      " eïna: 1\n"
     ]
    }
   ],
   "source": [
    "from collections import Counter\n",
    "import string\n",
    "print(\"Introduexi el text que vostè vulgui a continuació: \")\n",
    "text=input()\n",
    "traductor=str.maketrans(\"\",\"\", string.punctuation)\n",
    "text_ss_puntuacio=text.translate(traductor)\n",
    "llista_paraules = text_ss_puntuacio.split()\n",
    "\n",
    "#print(llista_paraules)\n",
    "\n",
    "recompte=Counter(llista_paraules)\n",
    "for elements, valor in recompte.items(): \n",
    "    print(f\" {elements}: {valor}\")\n"
   ]
  },
  {
   "cell_type": "markdown",
   "id": "6799d259-5bff-4a26-9abc-5d2c6049cc7e",
   "metadata": {},
   "source": [
    "* **Exercici 4**"
   ]
  },
  {
   "cell_type": "markdown",
   "id": "f468a95f-9781-41a4-babc-b1adc8736400",
   "metadata": {},
   "source": [
    "Diccionari invers.\n",
    "\n",
    "Resulta que el client té una enquesta molt antiga que s'emmagatzema en un diccionari i els resultats els necessita al revés, és a dir, intercanviats les claus i els valors. Els valors i claus en el diccionari original són únics; si aquest no és el cas, la funció hauria d'imprimir un missatge d'advertiment."
   ]
  },
  {
   "cell_type": "code",
   "execution_count": 100,
   "id": "370f3da7-9a14-44f7-9825-28cb058c2b6a",
   "metadata": {},
   "outputs": [
    {
     "name": "stdout",
     "output_type": "stream",
     "text": [
      "{1: 'a', 2: 'b', 3: 'c'}\n"
     ]
    }
   ],
   "source": [
    "def diccionari_invers():\n",
    "    reverse_diccionari = {'a': 1, 'b': 2, 'c': 3}\n",
    "    return reverse_diccionari\n",
    "\n",
    "def diccionari(reverse_diccionari):\n",
    "    valors = list(reverse_diccionari.values())\n",
    "    if len(valors) != len(set(valors)):\n",
    "        print(\"Els valors del diccionari no són únics.\")\n",
    "        return None\n",
    "    invertir_diccionari = {valor: clau for clau, valor in reverse_diccionari.items()}\n",
    "    #print(f\"{invertir_diccionari}\")\n",
    "    return invertir_diccionari\n",
    "\n",
    "def imprimir_diccionari(inv_diccionari):\n",
    "    print(inv_diccionari)\n",
    "\n",
    "def main_ex4(inv_diccionari):\n",
    "    reverse_diccionari=diccionari_invers()\n",
    "    inv_diccionari=diccionari(reverse_diccionari)\n",
    "    imprimir_diccionari(inv_diccionari)\n",
    "    \n",
    "main_ex4(inv_diccionari)\n",
    "\n"
   ]
  },
  {
   "cell_type": "markdown",
   "id": "b302d4d9-c3a2-4c04-b156-94f651a7b5df",
   "metadata": {},
   "source": [
    "## Nivell 2"
   ]
  },
  {
   "cell_type": "markdown",
   "id": "bfe5898a-f485-4ae3-b388-13c805f92c34",
   "metadata": {},
   "source": [
    "* **Exercici 1**"
   ]
  },
  {
   "cell_type": "markdown",
   "id": "a46138a2-8da5-4606-b52c-d4fd6362e137",
   "metadata": {},
   "source": [
    "Diccionari invers amb duplicats\r\n",
    "\r\n",
    "Continuant amb l'exercici 4 del nivell 1: al client es va oblidar de comentar un detall i resulta que els valors en el diccionari original poden duplicar-se i més, per la qual cosa les claus intercanviades poden tenir duplicats. En aquest cas, en l'exercici anterior imprimies un missatge d'advertiment, ara, els valors del diccionari resultant hauran d'emmagatzemar-se com una llista. Tingues en compte que si és un valor únic no ha de ser una llista."
   ]
  },
  {
   "cell_type": "code",
   "execution_count": 112,
   "id": "55715dfa-a252-42a8-9d02-d2cc27bbcf97",
   "metadata": {},
   "outputs": [
    {
     "name": "stdout",
     "output_type": "stream",
     "text": [
      "Llista duplicats: ['banana']\n",
      "{'apple': ['x'], 'banana': ['y', 'z']}\n"
     ]
    }
   ],
   "source": [
    "def diccionari_invers_duplicat():\n",
    "    reverse_diccionari_duplicat = {'x': 'apple', 'y' : 'banana', 'z' : 'banana'}\n",
    "    return reverse_diccionari_duplicat\n",
    "\n",
    "def duplicats_diccionari_duplicat(reverse_diccionari_duplicat):\n",
    "    from collections import Counter\n",
    "    valors = list(reverse_diccionari_duplicat.values())\n",
    "    llista_duplicats = []\n",
    "    comptador_valors = Counter(valors)\n",
    "    for element, comptar in comptador_valors.items():\n",
    "        if comptar > 1:\n",
    "            llista_duplicats.append(element)\n",
    "            return llista_duplicats\n",
    "\n",
    "def imprimir_duplicats_diccionari_duplicat(llista_duplicats):\n",
    "    print(f\"Llista duplicats: {llista_duplicats}\")\n",
    "\n",
    "def girar_diccionari_duplicat(reverse_diccionari_duplicat):\n",
    "    reverse_diccionari_duplicat_valor = {\n",
    "        clau: tuple(valor) if isinstance(valor, list) else valor\n",
    "        for clau, valor in reverse_diccionari_duplicat.items()\n",
    "    }  \n",
    "    girar_diccionari = {}\n",
    "    for clau, valor in reverse_diccionari_duplicat.items():\n",
    "        if valor not in girar_diccionari:\n",
    "            girar_diccionari[valor] = []\n",
    "        girar_diccionari[valor].append(clau)\n",
    "    return girar_diccionari\n",
    "\n",
    "def imprimir_diccionari_duplicat(inv_diccionari_duplicat):\n",
    "    print(inv_diccionari_duplicat)\n",
    "\n",
    "def main_ex1_n2():\n",
    "    reverse_diccionari_duplicat = diccionari_invers_duplicat()\n",
    "    llista_duplicats = duplicats_diccionari_duplicat(reverse_diccionari_duplicat)\n",
    "    imprimir_duplicats_diccionari_duplicat(llista_duplicats)\n",
    "    inv_diccionari_duplicat = girar_diccionari_duplicat(reverse_diccionari_duplicat)\n",
    "    imprimir_diccionari_duplicat(inv_diccionari_duplicat)\n",
    "\n",
    "main_ex1_n2()\n"
   ]
  },
  {
   "cell_type": "markdown",
   "id": "8ead7f70-d35c-4832-9b4a-fef39166958a",
   "metadata": {},
   "source": [
    "* **Exercici 2**"
   ]
  },
  {
   "cell_type": "markdown",
   "id": "910ee0f3-90a8-429a-b4ba-b25a00ab2c1a",
   "metadata": {},
   "source": [
    "Conversió de tipus de dades\r\n",
    "\r\n",
    "El client rep una llista de dades i necessita generar dues llistes, la primera on estaran tots els elements que es van poder convertir en flotants i l'altra on estan els elements que no es van poder convertir. Exemple de la llista que rep el client: [ '1.3', 'one' , '1e10' , 'seven', '3-1/2', ('2',1,1.4,'not-a-number'), [1,2,'3','3.4']]\r\n",
    "\r\n"
   ]
  }
 ],
 "metadata": {
  "kernelspec": {
   "display_name": "Python 3 (ipykernel)",
   "language": "python",
   "name": "python3"
  },
  "language_info": {
   "codemirror_mode": {
    "name": "ipython",
    "version": 3
   },
   "file_extension": ".py",
   "mimetype": "text/x-python",
   "name": "python",
   "nbconvert_exporter": "python",
   "pygments_lexer": "ipython3",
   "version": "3.11.5"
  }
 },
 "nbformat": 4,
 "nbformat_minor": 5
}
